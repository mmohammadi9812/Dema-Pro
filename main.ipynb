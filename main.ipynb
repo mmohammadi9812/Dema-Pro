{
 "cells": [
  {
   "cell_type": "markdown",
   "metadata": {},
   "source": [
    "Copyright 2024 Dema-Pro Group. All rights reserved.\n",
    "\n",
    "Use of this source code is governed by a BSD-style license that can be found in the LICENSE file."
   ]
  },
  {
   "cell_type": "markdown",
   "metadata": {},
   "source": [
    "## Imports"
   ]
  },
  {
   "cell_type": "code",
   "execution_count": 1,
   "metadata": {},
   "outputs": [],
   "source": [
    "from tdw.controller import Controller\n",
    "from tdw.add_ons.oculus_touch import OculusTouch\n",
    "from tdw.output_data import OutputData\n",
    "from tdw.add_ons.third_person_camera import ThirdPersonCamera\n",
    "from tdw.tdw_utils import TDWUtils\n",
    "from tdw.librarian import ModelLibrarian\n",
    "from tdw.output_data import OutputData, Bounds\n",
    "from scipy.spatial.transform import Rotation as R\n",
    "from tdw.add_ons.image_capture import ImageCapture\n",
    "from tdw.librarian import ModelLibrarian\n",
    "from tdw.add_ons.keyboard import Keyboard\n",
    "from tdw.add_ons.embodied_avatar import EmbodiedAvatar\n",
    "from tdw.add_ons.avatar_body import AvatarBody\n",
    "from tdw.add_ons.first_person_avatar import FirstPersonAvatar\n",
    "\n",
    "import numpy as np\n",
    "import os, subprocess, time\n",
    "\n",
    "from pathlib import Path"
   ]
  },
  {
   "cell_type": "markdown",
   "metadata": {},
   "source": [
    "## Helper functions"
   ]
  },
  {
   "cell_type": "code",
   "execution_count": 2,
   "metadata": {},
   "outputs": [],
   "source": [
    "def get_bounds(c, obj_id, rotation):\n",
    "    resp = c.communicate({\"$type\": \"send_bounds\", \"frequency\": \"once\"})\n",
    "    for i in range(len(resp) - 1):\n",
    "        r_id = OutputData.get_data_type_id(resp[i])\n",
    "        if r_id == \"boun\":\n",
    "            bounds = Bounds(resp[i])\n",
    "            for j in range(bounds.get_num()):\n",
    "                if bounds.get_id(j) == obj_id:\n",
    "                    top = bounds.get_top(j)[1]\n",
    "                    bottom = bounds.get_bottom(j)[1]\n",
    "                    back = bounds.get_back(j)[2]\n",
    "                    front = bounds.get_front(j)[2]\n",
    "                    left = bounds.get_left(j)[0]\n",
    "                    right = bounds.get_right(j)[0]\n",
    "    init_corners = np.array(\n",
    "        [\n",
    "            [left, top, back],\n",
    "            [left, top, front],\n",
    "            [left, bottom, back],\n",
    "            [left, bottom, front],\n",
    "            [right, top, back],\n",
    "            [right, top, front],\n",
    "            [right, bottom, back],\n",
    "            [right, bottom, front],\n",
    "        ]\n",
    "    )\n",
    "\n",
    "    r = (\n",
    "        R.from_euler(\n",
    "            \"xyz\", [[rotation[\"x\"], rotation[\"y\"], rotation[\"z\"]]], degrees=True\n",
    "        )\n",
    "        .as_matrix()\n",
    "        .squeeze()\n",
    "    )\n",
    "\n",
    "    transformed_corners = np.matmul(r, init_corners.T).T\n",
    "\n",
    "    return {\n",
    "        \"left\": float(left),\n",
    "        \"right\": float(right),\n",
    "        \"top\": float(top),\n",
    "        \"bottom\": float(bottom),\n",
    "        \"front\": float(front),\n",
    "        \"back\": float(back),\n",
    "        \"width\": abs(float(left - right)),\n",
    "        \"height\": abs(float(top - bottom)),\n",
    "        \"depth\": abs(float(front - back)),\n",
    "        \"corners\": transformed_corners.tolist(),\n",
    "    }\n",
    "\n",
    "\n",
    "def add_your_own_object(\n",
    "    c,\n",
    "    name,\n",
    "    id,\n",
    "    position,\n",
    "    rotation={\"x\": 0, \"y\": 0, \"z\": 0},\n",
    "    mass=5,\n",
    "    color=None,\n",
    "    scale={\"x\": 1, \"y\": 1, \"z\": 1},\n",
    "    material=None,\n",
    "    dynamic_friction=0.3,\n",
    "    static_friction=0.3,\n",
    "    bounciness=0.7,\n",
    "    set_kinematic=False,\n",
    "    use_gravity=True\n",
    "):\n",
    "    commands = []\n",
    "    commands.extend(\n",
    "        [\n",
    "            {\n",
    "                \"$type\": \"add_object\",\n",
    "                \"name\": name,\n",
    "                \"url\": \"file:///\" + models_directory + name,\n",
    "                \"id\": id,\n",
    "                \"position\": position,\n",
    "            },\n",
    "            {\n",
    "                \"$type\": \"scale_object\",\n",
    "                \"scale_factor\": scale,\n",
    "                \"id\": id,\n",
    "            },\n",
    "        ]\n",
    "    )\n",
    "    if material:\n",
    "        model_record = local_librarian.get_record(name)\n",
    "        commands.extend(\n",
    "            TDWUtils.set_visual_material(\n",
    "                c=c,\n",
    "                substructure=model_record.substructure,\n",
    "                material=material,\n",
    "                object_id=id,\n",
    "            )\n",
    "        )\n",
    "    commands.append({\"$type\": \"set_mass\", \"mass\": mass, \"id\": id})\n",
    "    commands.extend(\n",
    "        [\n",
    "            {\n",
    "                \"$type\": \"rotate_object_by\",\n",
    "                \"angle\": rotation[\"x\"],\n",
    "                \"id\": id,\n",
    "                \"axis\": \"pitch\",\n",
    "                \"use_centroid\": True,\n",
    "            },\n",
    "            {\n",
    "                \"$type\": \"rotate_object_by\",\n",
    "                \"angle\": rotation[\"y\"],\n",
    "                \"id\": id,\n",
    "                \"axis\": \"yaw\",\n",
    "                \"use_centroid\": True,\n",
    "            },\n",
    "            {\n",
    "                \"$type\": \"rotate_object_by\",\n",
    "                \"angle\": rotation[\"z\"],\n",
    "                \"id\": id,\n",
    "                \"axis\": \"roll\",\n",
    "                \"use_centroid\": True,\n",
    "            },\n",
    "        ]\n",
    "    )\n",
    "\n",
    "    commands.extend(\n",
    "        [\n",
    "            {\n",
    "                \"$type\": \"set_kinematic_state\",\n",
    "                \"id\": id,\n",
    "                \"is_kinematic\": set_kinematic,\n",
    "                \"use_gravity\": use_gravity\n",
    "            },\n",
    "            {\n",
    "                \"$type\": \"set_physic_material\",\n",
    "                \"dynamic_friction\": dynamic_friction,\n",
    "                \"static_friction\": static_friction,\n",
    "                \"bounciness\": bounciness,\n",
    "                \"id\": id\n",
    "            }\n",
    "        ]\n",
    "    )\n",
    "\n",
    "    if color:\n",
    "        commands.append({\"$type\": \"set_color\", \"color\": color, \"id\": id})\n",
    "    c.communicate(commands)\n",
    "    bounds = get_bounds(c, id, rotation)\n",
    "    c.communicate([])\n",
    "\n",
    "    return bounds\n",
    "\n",
    "def add_tdw_object(\n",
    "    c,\n",
    "    name,\n",
    "    id,\n",
    "    position,\n",
    "    rotation={\"x\": 0, \"y\": 0, \"z\": 0},\n",
    "    mass=5,\n",
    "    color=None,\n",
    "    scale={\"x\": 1, \"y\": 1, \"z\": 1},\n",
    "    material=None,\n",
    "    dynamic_friction=0.3,\n",
    "    static_friction=0.3,\n",
    "    bounciness=0.7,\n",
    "    set_kinematic=False,\n",
    "    use_gravity=True,\n",
    "    library=\"models_core.json\"\n",
    "):\n",
    "    commands = []\n",
    "    commands.extend(\n",
    "        c.get_add_physics_object(\n",
    "            model_name=name,\n",
    "            object_id=id,\n",
    "            position=position,\n",
    "            rotation=rotation,\n",
    "            mass=mass,\n",
    "            default_physics_values = False,\n",
    "            dynamic_friction=dynamic_friction,\n",
    "            static_friction=static_friction,\n",
    "            bounciness=bounciness,\n",
    "            gravity=use_gravity,\n",
    "            kinematic=set_kinematic,\n",
    "            scale_factor=scale,\n",
    "            library=library\n",
    "        )\n",
    "    )\n",
    "\n",
    "    if color:\n",
    "        commands.append({\"$type\": \"set_color\", \"color\": color, \"id\": id})\n",
    "\n",
    "    if material:\n",
    "        librarian = ModelLibrarian(library=library)\n",
    "        model_record = librarian.get_record(name)\n",
    "        commands.extend(\n",
    "            TDWUtils.set_visual_material(\n",
    "                c=c,\n",
    "                substructure=model_record.substructure,\n",
    "                material=material,\n",
    "                object_id=id,\n",
    "            )\n",
    "        )\n",
    "\n",
    "    c.communicate(commands)\n",
    "    bounds = get_bounds(c, id, rotation)\n",
    "\n",
    "    return bounds"
   ]
  },
  {
   "cell_type": "markdown",
   "metadata": {},
   "source": [
    "## Controller\n",
    "A controller is the Python object that communicates with the simulation application (the build). You can code up your scene in the controller and send it to the simulator for rendering. Similarly, the simulator sends the output data (including pose of every object and agent, collisions, RGB and depth maps, etc) back to the controller and you can read them out."
   ]
  },
  {
   "cell_type": "code",
   "execution_count": 3,
   "metadata": {},
   "outputs": [
    {
     "name": "stdout",
     "output_type": "stream",
     "text": [
      "Images will be saved to: images\n"
     ]
    }
   ],
   "source": [
    "images_dir = Path(\"./images\")\n",
    "images_dir.mkdir(exist_ok=True)\n",
    "\n",
    "videos_dir = Path(\"./videos\")\n",
    "videos_dir.mkdir(exist_ok=True)\n",
    "\n",
    "print(f\"Images will be saved to: {images_dir}\")"
   ]
  },
  {
   "cell_type": "code",
   "execution_count": 4,
   "metadata": {},
   "outputs": [
    {
     "data": {
      "text/plain": [
       "<Popen: returncode: None args: ['~/tdw_build/TDW/TDW.app/Contents/MacOS/TDW'...>"
      ]
     },
     "execution_count": 4,
     "metadata": {},
     "output_type": "execute_result"
    }
   ],
   "source": [
    "subprocess.Popen([\"~/tdw_build/TDW/TDW.app/Contents/MacOS/TDW\", \"-port\", str(1071), \"--force_glcore42\", \"--flip_images\"], shell=True,\n",
    "             stdin=None, stdout=None, stderr=None, close_fds=True)"
   ]
  },
  {
   "cell_type": "code",
   "execution_count": 5,
   "metadata": {},
   "outputs": [
    {
     "name": "stdout",
     "output_type": "stream",
     "text": [
      "You need to launch your own build.\n"
     ]
    }
   ],
   "source": [
    "c = Controller(port=1071, check_version=False, launch_build=False)\n",
    "\n",
    "camera = ThirdPersonCamera(\n",
    "    avatar_id=c.get_unique_id(),\n",
    "    position={\"x\": 0, \"y\": 1.6, \"z\": -1.0},\n",
    "    rotation={\"x\": 0, \"y\": 0, \"z\": 0},\n",
    "    field_of_view=180,\n",
    ")\n",
    "c.add_ons.append(camera)"
   ]
  },
  {
   "cell_type": "code",
   "execution_count": 6,
   "metadata": {},
   "outputs": [
    {
     "data": {
      "text/plain": [
       "[b'\\x00\\x00\\x00\\x03']"
      ]
     },
     "execution_count": 6,
     "metadata": {},
     "output_type": "execute_result"
    }
   ],
   "source": [
    "c.communicate(c.get_add_scene(scene_name=\"tdw_room\"))\n",
    "c.communicate(\n",
    "    [\n",
    "        TDWUtils.create_empty_room(15, 15),\n",
    "        {\"$type\": \"set_screen_size\", \"width\": 1000, \"height\": 1000},\n",
    "        {\"$type\": \"set_target_framerate\", \"framerate\": 60},\n",
    "    ]\n",
    ")"
   ]
  },
  {
   "cell_type": "code",
   "execution_count": 7,
   "metadata": {},
   "outputs": [],
   "source": [
    "avatar = FirstPersonAvatar(\n",
    "    avatar_id=\"av\",\n",
    "    field_of_view=10,\n",
    ")\n",
    "\n",
    "c.add_ons.append(avatar)"
   ]
  },
  {
   "cell_type": "code",
   "execution_count": null,
   "metadata": {},
   "outputs": [],
   "source": [
    "c.communicate(\n",
    "    c.get_add_object(\n",
    "        model_name=\"rh10\",\n",
    "        position={\"x\": 2, \"y\": 0, \"z\": 2},\n",
    "        object_id=c.get_unique_id(),\n",
    "    )\n",
    ")\n",
    "\n",
    "done = False\n",
    "while not done:\n",
    "    c.communicate([])\n",
    "    if avatar.mouse_is_over_object and avatar.left_button_pressed:\n",
    "        print(avatar.mouse_over_object_id)\n",
    "    if avatar.right_button_pressed:\n",
    "        done = True\n",
    "\n",
    "c.communicate({\"$type\": \"terminate\"})"
   ]
  }
 ],
 "metadata": {
  "kernelspec": {
   "display_name": ".venv",
   "language": "python",
   "name": "python3"
  },
  "language_info": {
   "codemirror_mode": {
    "name": "ipython",
    "version": 3
   },
   "file_extension": ".py",
   "mimetype": "text/x-python",
   "name": "python",
   "nbconvert_exporter": "python",
   "pygments_lexer": "ipython3",
   "version": "3.10.15"
  }
 },
 "nbformat": 4,
 "nbformat_minor": 2
}
